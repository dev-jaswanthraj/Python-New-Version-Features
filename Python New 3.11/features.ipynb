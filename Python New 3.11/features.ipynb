{
 "cells": [
  {
   "cell_type": "markdown",
   "metadata": {},
   "source": [
    "# 1. Tomllib is part of the standard library.\n",
    "    Tom's Obvious Minimal Language ( Used For Configur Files )\n",
    "\n",
    "Ex:\n",
    "import tomllib\n",
    "\n",
    "def main() -> None:\n",
    "    with open(\"settings.toml\", \"rb\") as f:\n",
    "        data = tomllib.load(f) # return dict(str,Any)\n",
    "        print(data) \n",
    "\n",
    "if __name__ == \"__main__\":\n",
    "    main()"
   ]
  },
  {
   "cell_type": "markdown",
   "metadata": {},
   "source": [
    "2. # Add Notes to Exceptions"
   ]
  },
  {
   "cell_type": "code",
   "execution_count": null,
   "metadata": {},
   "outputs": [],
   "source": [
    "def main() -> None:\n",
    "    try: \n",
    "        raise TypeError(\"bad type\")\n",
    "    \n",
    "    except TypeError as type_error:\n",
    "        type_error.add_note(\"Add Some information\")\n",
    "        raise\n",
    "\n",
    "if __name__ == \"__main__\":\n",
    "    main()"
   ]
  },
  {
   "cell_type": "markdown",
   "metadata": {},
   "source": [
    "# 3. Tracebacks are more precise\n"
   ]
  },
  {
   "cell_type": "markdown",
   "metadata": {},
   "source": [
    "# 4: New LiteralString type\n"
   ]
  }
 ],
 "metadata": {
  "kernelspec": {
   "display_name": "Python 3.11.0rc2 64-bit",
   "language": "python",
   "name": "python3"
  },
  "language_info": {
   "name": "python",
   "version": "3.11.0"
  },
  "orig_nbformat": 4,
  "vscode": {
   "interpreter": {
    "hash": "1f6a27bcfbe46a917dbd192f4a82657396dda26148bae633192e8d28c70725f1"
   }
  }
 },
 "nbformat": 4,
 "nbformat_minor": 2
}
